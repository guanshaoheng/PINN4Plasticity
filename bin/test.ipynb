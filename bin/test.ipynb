{
 "cells": [
  {
   "cell_type": "code",
   "execution_count": 3,
   "id": "3afbc237",
   "metadata": {},
   "outputs": [
    {
     "data": {
      "text/plain": [
       "2"
      ]
     },
     "execution_count": 3,
     "metadata": {},
     "output_type": "execute_result"
    }
   ],
   "source": [
    "1+1"
   ]
  },
  {
   "cell_type": "code",
   "execution_count": 9,
   "id": "6c355534",
   "metadata": {},
   "outputs": [],
   "source": [
    "import numpy as np\n",
    "\n",
    "a = np.array([12,3,])"
   ]
  },
  {
   "cell_type": "markdown",
   "id": "31af9b55-dbca-49d4-9cd8-38570eb283d1",
   "metadata": {
    "tags": []
   },
   "source": [
    "# Test script\n",
    "+ Author: \n",
    "  + shguan\n",
    "  + Ph. D. in Wuhan University\n",
    "  + +86-13016427343\n",
    "  + guanshaoheng@whu.edu.cm\n",
    "\n",
    "- $\\sigma_{ij}=D_{ijkl}\\epsilon_{kl}$\n",
    "  - in this "
   ]
  },
  {
   "cell_type": "code",
   "execution_count": null,
   "id": "48c95f71-0163-4823-9b38-79562b3f3c96",
   "metadata": {},
   "outputs": [],
   "source": []
  }
 ],
 "metadata": {
  "kernelspec": {
   "display_name": "Python 3 (ipykernel)",
   "language": "python",
   "name": "python3"
  },
  "language_info": {
   "codemirror_mode": {
    "name": "ipython",
    "version": 3
   },
   "file_extension": ".py",
   "mimetype": "text/x-python",
   "name": "python",
   "nbconvert_exporter": "python",
   "pygments_lexer": "ipython3",
   "version": "3.8.5"
  }
 },
 "nbformat": 4,
 "nbformat_minor": 5
}
